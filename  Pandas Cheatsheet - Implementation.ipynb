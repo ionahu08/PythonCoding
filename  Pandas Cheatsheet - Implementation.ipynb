{
 "cells": [
  {
   "cell_type": "code",
   "execution_count": 35,
   "id": "cf81d85c-b33f-4ede-af2b-f17de61adde5",
   "metadata": {},
   "outputs": [],
   "source": [
    "# Read\n",
    "coffee = pd.read_csv(\"./data/coffee.csv\")\n",
    "olym = pd.read_excel(\"./data/olympics-data.xlsx\", sheet_name=\"results\")\n",
    "\n",
    "# Write\n",
    "# df.to_csv(\"path/filename.csv\")\n",
    "# df.to_excel(\"path/filename.xlsx\")"
   ]
  },
  {
   "cell_type": "code",
   "execution_count": 33,
   "id": "1491550a-8bfb-41e4-ae39-d6c2e0492d3c",
   "metadata": {},
   "outputs": [],
   "source": [
    "# display(coffee.head(10))\n",
    "# display(olym.head(10))"
   ]
  },
  {
   "cell_type": "markdown",
   "id": "f2de9f17-a3b1-4fc8-8d42-503e35abac76",
   "metadata": {},
   "source": [
    "### 03.Data Exploration"
   ]
  },
  {
   "cell_type": "code",
   "execution_count": 67,
   "id": "0f23c5cf-691a-4fc2-bb4a-4ff411b070a9",
   "metadata": {},
   "outputs": [],
   "source": [
    "df.head()              # First 5 rows   --> Pandas DF\n",
    "df.tail()              # Last 5 rows    --> Pandas DF\n",
    "df.shape               # (rows, columns)--> Tuple\n",
    "df.info()              # Summary info   --> NoneType\n",
    "df.describe()          # Statistics for numeric columns --> Pandas DF\n",
    "df.columns             # Column names\n",
    "df.index               # Index info\n",
    "df.dtypes              # Data types                --> Pandas Series\n",
    "df['col1'].value_counts()  # Count unique values   --> Numpy Array\n",
    "df['col1'].unique()        # Unique values         --> Numpy Array"
   ]
  },
  {
   "cell_type": "markdown",
   "id": "9b7cfdad-fa3a-48e7-95a4-764d4f71bbba",
   "metadata": {},
   "source": [
    "### 04.Selection\n",
    "#### Loc: Allow us to access row/column through dataFrame label, e.g. coffee.loc[#Rows, #Cols]\n",
    "#### iloc: Allow us to access row/column through dataFrame index only!"
   ]
  },
  {
   "cell_type": "code",
   "execution_count": 96,
   "id": "64d3dc48-e810-46b9-83da-acf2b995279e",
   "metadata": {},
   "outputs": [],
   "source": [
    "coffee[\"Day\"]                             # Single column\n",
    "coffee[[\"Day\", \"Coffee Type\"]]            # Multilple columns\n",
    "\n",
    "coffee.iloc[0]                            # Single row\n",
    "coffee.iloc[[0,1,2]]                      # Multilple rows\n",
    "\n",
    "coffee.loc[0:3, ['Day','Units Sold']]     # loc Slicing to select columns and rows\n",
    "coffee.iloc[0:3, [1,2]]                   # iloc Slicing to select columns and rows"
   ]
  },
  {
   "cell_type": "markdown",
   "id": "e3ed29fd-df0f-422f-99d5-2f01daeb11b5",
   "metadata": {},
   "source": [
    "### 05.Filtering\n",
    "##### 01 - Numerical Values\n",
    "##### 02 - Multiple filtering criterion\n",
    "##### 03 - Filtering data | string operation, regular expression\n",
    "##### 04 - Filtering data | Query"
   ]
  },
  {
   "cell_type": "code",
   "execution_count": 129,
   "id": "b2ba28e9-b44e-4277-875c-3e1a6ef792d9",
   "metadata": {},
   "outputs": [
    {
     "data": {
      "text/html": [
       "<div>\n",
       "<style scoped>\n",
       "    .dataframe tbody tr th:only-of-type {\n",
       "        vertical-align: middle;\n",
       "    }\n",
       "\n",
       "    .dataframe tbody tr th {\n",
       "        vertical-align: top;\n",
       "    }\n",
       "\n",
       "    .dataframe thead th {\n",
       "        text-align: right;\n",
       "    }\n",
       "</style>\n",
       "<table border=\"1\" class=\"dataframe\">\n",
       "  <thead>\n",
       "    <tr style=\"text-align: right;\">\n",
       "      <th></th>\n",
       "      <th>Day</th>\n",
       "      <th>Coffee Type</th>\n",
       "      <th>Units Sold</th>\n",
       "    </tr>\n",
       "  </thead>\n",
       "  <tbody>\n",
       "    <tr>\n",
       "      <th>0</th>\n",
       "      <td>Monday</td>\n",
       "      <td>Espresso</td>\n",
       "      <td>25</td>\n",
       "    </tr>\n",
       "  </tbody>\n",
       "</table>\n",
       "</div>"
      ],
      "text/plain": [
       "      Day Coffee Type  Units Sold\n",
       "0  Monday    Espresso          25"
      ]
     },
     "execution_count": 129,
     "metadata": {},
     "output_type": "execute_result"
    }
   ],
   "source": [
    "# 01 - Numerical Values¶\n",
    "coffee[coffee['Units Sold']>20][[\"Day\",\"Coffee Type\"]]\n",
    "coffee.loc[coffee['Units Sold']>20, [\"Day\",\"Coffee Type\"]]\n",
    "\n",
    "# 02 - Multiple filtering criterion¶\n",
    "coffee[(coffee[\"Units Sold\"]>20) & (coffee[\"Day\"].isin([\"Monday\",\"Tuesday\"]))]\n",
    "\n",
    "# 03 - Filtering data | string operation, regular expression (Contains, isin, startswith)\n",
    "coffee[coffee[\"Coffee Type\"].str.contains(\"Espr\", case=False)]   # contains\n",
    "coffee[coffee[\"Coffee Type\"].str.startswith(\"Espr\")]             # startswith\n",
    "coffee[coffee[\"Day\"].isin([\"Monday\",\"Tuesday\"])]                 # isin\n",
    "\n",
    "# 04 - Filtering data | Query\n",
    "coffee.query(\"Day == 'Monday' and `Coffee Type` == 'Latte'\" )\n",
    "coffee.query(\"Day == 'Monday' and `Units Sold` >= 25\" )\n"
   ]
  },
  {
   "cell_type": "markdown",
   "id": "f3ab768d-ccab-4dff-86df-ec7462916c65",
   "metadata": {},
   "source": [
    "### 06.Sorting & Renaming"
   ]
  },
  {
   "cell_type": "code",
   "execution_count": 121,
   "id": "f12b1435-8cf0-45b9-90e5-c29c7e5e8267",
   "metadata": {},
   "outputs": [
    {
     "data": {
      "text/plain": [
       "Index(['Day', 'Coffee Type', 'Units Sold'], dtype='object')"
      ]
     },
     "execution_count": 121,
     "metadata": {},
     "output_type": "execute_result"
    }
   ],
   "source": [
    "coffee.columns"
   ]
  },
  {
   "cell_type": "code",
   "execution_count": null,
   "id": "a43e21fd-a162-43ea-a6e7-7eb24be678ea",
   "metadata": {},
   "outputs": [],
   "source": []
  }
 ],
 "metadata": {
  "kernelspec": {
   "display_name": "Python 3 (ipykernel)",
   "language": "python",
   "name": "python3"
  },
  "language_info": {
   "codemirror_mode": {
    "name": "ipython",
    "version": 3
   },
   "file_extension": ".py",
   "mimetype": "text/x-python",
   "name": "python",
   "nbconvert_exporter": "python",
   "pygments_lexer": "ipython3",
   "version": "3.10.18"
  }
 },
 "nbformat": 4,
 "nbformat_minor": 5
}
